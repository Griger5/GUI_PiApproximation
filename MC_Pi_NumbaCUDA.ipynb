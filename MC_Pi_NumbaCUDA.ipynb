{
 "cells": [
  {
   "cell_type": "code",
   "execution_count": 25,
   "id": "9323bab9-01b2-4390-9f30-ea44a802fc4b",
   "metadata": {},
   "outputs": [],
   "source": [
    "import numpy as np\n",
    "from numba import cuda\n",
    "from numba.cuda.random import create_xoroshiro128p_states, xoroshiro128p_uniform_float32"
   ]
  },
  {
   "cell_type": "code",
   "execution_count": 68,
   "id": "a200a2d8-4877-4f1f-a073-2a24ebfed243",
   "metadata": {},
   "outputs": [],
   "source": [
    "@cuda.jit\n",
    "def piApproximation(rng_states, n, out):\n",
    "    thread_id = cuda.grid(1)\n",
    "    stride = cuda.gridsize(1)\n",
    "    \n",
    "    inside = 0\n",
    "    for i in range(thread_id, n, stride):\n",
    "        x = xoroshiro128p_uniform_float32(rng_states, thread_id)\n",
    "        y = xoroshiro128p_uniform_float32(rng_states, thread_id)\n",
    "        if (x**2 + y**2) < 1.0:\n",
    "            inside += 1\n",
    "    \n",
    "    out[thread_id] = (4.0 * inside / n) * stride"
   ]
  },
  {
   "cell_type": "code",
   "execution_count": 95,
   "id": "bf81b52b-4078-446b-a0ab-d7e76a8de15b",
   "metadata": {},
   "outputs": [],
   "source": [
    "n = 10**7\n",
    "blocks_per_grid = 128\n",
    "threads_per_block = 512\n",
    "\n",
    "grid_size = threads_per_block * blocks_per_grid\n",
    "#samples_per_thread = int(n / grid_size) \n",
    "\n",
    "rng_states = create_xoroshiro128p_states(grid_size, seed=1)\n",
    "d_out = cuda.device_array(grid_size, dtype=np.float32)"
   ]
  },
  {
   "cell_type": "code",
   "execution_count": 102,
   "id": "031188d9",
   "metadata": {},
   "outputs": [],
   "source": [
    "piApproximation[blocks_per_grid, threads_per_block](rng_states, n, d_out)"
   ]
  },
  {
   "cell_type": "code",
   "execution_count": 103,
   "id": "1ac599fa",
   "metadata": {},
   "outputs": [
    {
     "name": "stdout",
     "output_type": "stream",
     "text": [
      "3.1418946\n"
     ]
    }
   ],
   "source": [
    "result = d_out.copy_to_host().mean()\n",
    "print(result)"
   ]
  }
 ],
 "metadata": {
  "kernelspec": {
   "display_name": "Python 3 (ipykernel)",
   "language": "python",
   "name": "python3"
  },
  "language_info": {
   "codemirror_mode": {
    "name": "ipython",
    "version": 3
   },
   "file_extension": ".py",
   "mimetype": "text/x-python",
   "name": "python",
   "nbconvert_exporter": "python",
   "pygments_lexer": "ipython3",
   "version": "3.11.5"
  }
 },
 "nbformat": 4,
 "nbformat_minor": 5
}
